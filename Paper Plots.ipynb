{
 "cells": [
  {
   "cell_type": "code",
   "execution_count": null,
   "metadata": {},
   "outputs": [],
   "source": [
    "# set this to point to the parameter file used\n",
    "const PARAMETER_FILE = \"model.parameters.json\"\n",
    "# set this to point to the .results file containing the simulations\n",
    "const RESULTS_PREFIX = \"experiments/SR3.0/Powder\"#.results, .high.results etc\n",
    "const WEATHER_FILE   = \"data/TGA.daily.df.csv\"\n",
    "const LOW_STOCKING_RESULTS = \"experiments/SR2.7/Powder.results\""
   ]
  },
  {
   "cell_type": "code",
   "execution_count": null,
   "metadata": {
    "collapsed": true
   },
   "outputs": [],
   "source": [
    "using JSON, SDDP,DataFrames#, StatPlots\n",
    "data = JSON.parsefile(PARAMETER_FILE)\n",
    "results = SDDP.load(string(RESULTS_PREFIX, \".results\"));\n",
    "low = SDDP.load(string(RESULTS_PREFIX, \".low.results\"));\n",
    "high = SDDP.load(string(RESULTS_PREFIX, \".high.results\"));\n",
    "low_stocking = SDDP.load(LOW_STOCKING_RESULTS);"
   ]
  },
  {
   "cell_type": "code",
   "execution_count": null,
   "metadata": {},
   "outputs": [],
   "source": [
    "using Plots, StatPlots\n",
    "const mm = Plots.mm\n",
    "const pt = Plots.pt\n",
    "fntsm = Plots.font(\"times\", 10.0pt)\n",
    "fntlg = Plots.font(\"times\", 12.0pt)\n",
    "default(titlefont=fntlg, guidefont=fntlg, tickfont=fntsm, legendfont=fntsm,left_margin=10mm,bottom_margin=7.5mm)\n",
    "default(size=(800,600),top_margin=0mm, right_margin=0mm)\n",
    "gr()"
   ]
  },
  {
   "cell_type": "code",
   "execution_count": null,
   "metadata": {
    "collapsed": true
   },
   "outputs": [],
   "source": [
    "# Plot Figure 1 in the paper\n",
    "plot(size=(1000,600), left_margin=5mm, bottom_margin=10mm)\n",
    "milking_requirements = data[\"energy_for_pregnancy\"] + data[\"energy_for_bcs_milking\"] + data[\"energy_for_maintenance\"]\n",
    "dry_requirements = data[\"energy_for_pregnancy\"] + data[\"energy_for_bcs_dry\"] + data[\"energy_for_maintenance\"]\n",
    "plot!(milking_requirements, label=\"Total: Lactating Cow\", linewidth=3, color=\"#00467F\")\n",
    "plot!(dry_requirements, label=\"Total: Dry Cow\", linewidth=3, color=\"#00467F\", linestyle=:dot)\n",
    "plot!(data[\"energy_for_bcs_milking\"],label=\"Change in BCS: Lactating Cow\", linewidth=3, color=\"#e65100\")\n",
    "plot!(data[\"energy_for_bcs_dry\"],label=\"Change in BCS: Dry Cow\", linewidth=3, color=\"#e65100\", linestyle=:dot)\n",
    "hline!([data[\"energy_for_maintenance\"]],label=\"Maintenance\", linewidth=3, color=\"#009AC7\", linestyle=:solid)\n",
    "plot!(data[\"energy_for_pregnancy\"], label=\"Pregnancy\", linewidth=3, color=\"#009AC7\", linestyle=:dash)\n",
    "plot!(ylims=(-100,900), xlabel=\"Weeks since calving\\n\", ylabel=\"Energy Requirement (MJ/week)\", legend=:topleft)\n",
    "savefig(\"energy.pdf\")"
   ]
  },
  {
   "cell_type": "code",
   "execution_count": null,
   "metadata": {
    "collapsed": true,
    "scrolled": false
   },
   "outputs": [],
   "source": [
    "# Plot Figure 4\n",
    "hgh = 3\n",
    "plot(xlabel=\"Quantity of Palm Kernel Fed (kg/cow/day)\\n\", ylabel=\"Penalty (\\$/cow/day)\",legend=false,ylims=(0,1.25))\n",
    "xbx = [0.0, 2.0, 2.0, 0.0]\n",
    "ybx = [0, 0, 2hgh, 2hgh]\n",
    "plot!(Plots.Shape(xbx, ybx), fillalpha=0.5, w=0, c=\"green\", alpha=0)\n",
    "plot!(Plots.Shape(2+xbx, ybx), fillalpha=0.5, w=0, c=\"orange\", alpha=0)\n",
    "plot!(Plots.Shape(4+xbx, ybx), fillalpha=0.5, w=0, c=\"red\", alpha=0)\n",
    "plot!([0, 3, 4, 5, 6], [0, 0, 0.25, 0.75,1.75], w=5, c=\"#00467F\")\n",
    "plot!(size=(4 * 175,2 * 175), left_margin=5mm, bottom_margin=10mm)\n",
    "annotate!([(1,0.4,text(\"Fat Evaluation Index\\nGrade A\")), (3,0.4,text(\"Fat Evaluation Index\\nGrade B\")), (5,0.4,text(\"Fat Evaluation Index\\nGrade C\"))])\n",
    "savefig(\"fei_penalty.pdf\")"
   ]
  },
  {
   "cell_type": "code",
   "execution_count": null,
   "metadata": {},
   "outputs": [],
   "source": [
    "# Plot Figure 5\n",
    "using CSV\n",
    "df = CSV.read(WEATHER_FILE)\n",
    "q = [0.0, 0.1, 0.25, 0.5, 0.75, 0.9, 1.0]\n",
    "rainfall = unstack(by(df, :week) do io\n",
    "   DataFrame(\n",
    "        rainfall = quantile(io[:rainfall], q),\n",
    "        quantile = q\n",
    "        ) \n",
    "        end, :quantile, :rainfall)\n",
    "rainfall = rainfall[vcat(35:52, 1:34),:]\n",
    "rename!(rainfall, [f => t for (f,t) in zip(names(rainfall), [:week, :a, :b, :c, :d, :e, :f, :g])])\n",
    "plot(rainfall[:d], w=3, c=\"#00467F\")\n",
    "plot!(rainfall[:a], fill=(rainfall[:g], \"#00467F\"), fillalpha=0.25, alpha=0.0)\n",
    "plot!(rainfall[:b], fill=(rainfall[:f], \"#00467F\"), fillalpha=0.25, alpha=0.0)\n",
    "plot!(rainfall[:c], fill=(rainfall[:e], \"#00467F\"), fillalpha=0.25, alpha=0.0)\n",
    "\n",
    "xticks = collect(1:8.66:52)\n",
    "xticklabels = [\"Aug\", \"Oct\", \"Dec\", \"Feb\", \"Apr\", \"Jun\"]\n",
    "\n",
    "rainfall_plot = plot!(\n",
    "    legend=false,\n",
    "    title=\"(a)\", xlims=(1,52), xticks=(xticks, xticklabels),\n",
    "    ylabel=\"Rainfall\\n(mm/week)\",\n",
    ")\n",
    "evapotranspiration = unstack(by(df, :week) do io\n",
    "   DataFrame(\n",
    "        evapotranspiration = quantile(io[:evapotranspiration], q),\n",
    "        quantile = q\n",
    "        ) \n",
    "        end, :quantile, :evapotranspiration)\n",
    "evapotranspiration = evapotranspiration[vcat(35:52, 1:34),:]\n",
    "rename!(evapotranspiration, [f => t for (f,t) in zip(names(evapotranspiration), [:week, :a, :b, :c, :d, :e, :f, :g])])\n",
    "plot(evapotranspiration[:d], w=3, c=\"#00467F\")\n",
    "plot!(evapotranspiration[:a], fill=(evapotranspiration[:g], \"#00467F\"), fillalpha=0.25, alpha=0.0)\n",
    "plot!(evapotranspiration[:b], fill=(evapotranspiration[:f], \"#00467F\"), fillalpha=0.25, alpha=0.0)\n",
    "plot!(evapotranspiration[:c], fill=(evapotranspiration[:e], \"#00467F\"), fillalpha=0.25, alpha=0.0)\n",
    "evapotranspiration_plot = plot!(\n",
    "    legend=false, title=\"(b)\",\n",
    "    xticks=(xticks, xticklabels),\n",
    "    ylabel=\"Evapotranspiration\\n(mm/week)\"\n",
    ")\n",
    "plot(rainfall_plot, evapotranspiration_plot, layout=(1,2), size=(1000,375), left_margin=8mm, bottom_margin=5mm)\n",
    "savefig(\"weather.pdf\")"
   ]
  },
  {
   "cell_type": "code",
   "execution_count": null,
   "metadata": {},
   "outputs": [],
   "source": [
    "# Plot Figures 5 and 6\n",
    "function getresults(results, key, scalefactor=1.0)\n",
    "    Q = [0.0, 0.05, 0.5, 0.95, 1.0]\n",
    "    g2 = hcat([scalefactor*r[key] for r in results]...)\n",
    "    g3 = hcat([quantile(g2[g,:], Q) for g in 1:size(g2, 1)]...)'\n",
    "    df = DataFrame(week=1:size(g3, 1), x10=g3[:,1], x25=g3[:,2], x50=g3[:,3], x75=g3[:,4], x90=g3[:,5])\n",
    "    for key in names(df)\n",
    "        df[key] = convert(Vector{Union{eltype(df[key]), Missings.Missing}}, df[key])\n",
    "    end\n",
    "    df\n",
    "end\n",
    "function plotpowder(islow, low, high, key, ylims, ylabel,title,scalefactor=1.0)\n",
    "    wks = 24:52\n",
    "    blue = getresults(low, key, scalefactor)[wks, :]\n",
    "    orange = getresults(high, key, scalefactor)[wks, :]\n",
    "\n",
    "    gray = getresults(vcat(low, high), key, scalefactor)[1:24, :]\n",
    "\n",
    "    plot()\n",
    "    plot!(gray[:week], gray[:x10], fill=(gray[:x90], \"gray\"), fillalpha=0.25, alpha=0.0)\n",
    "    plot!(gray[:week], gray[:x25], fill=(gray[:x75], \"gray\"), fillalpha=0.25, alpha=0.0)\n",
    "    plot!(gray[:week], gray[:x50], c=\"gray\", w=2, linestyle=:dot)\n",
    "    \n",
    "    if islow\n",
    "        plot!(blue[:week], blue[:x10], fill=(blue[:x90], \"#00467F\"), c=\"#00467F\", fillalpha=0.3, alpha=0)\n",
    "        plot!(blue[:week], blue[:x25], fill=(blue[:x75], \"#00467F\"), c=\"#00467F\", fillalpha=0.3, alpha=0)\n",
    "        plot!(blue[:week], blue[:x50], c=\"#00467F\", w=2, linestyle=:dot)\n",
    "    else\n",
    "        plot!(orange[:week], orange[:x10], fill=(orange[:x90], \"#e65100\"), c=\"#e65100\", fillalpha=0.3, alpha=0)\n",
    "        plot!(orange[:week], orange[:x25], fill=(orange[:x75], \"#e65100\"), c=\"#e65100\", fillalpha=0.3, alpha=0)\n",
    "        plot!(orange[:week], orange[:x50], c=\"#e65100\", w=2, linestyle=:dot)\n",
    "    end\n",
    "    plot!(1:24, scalefactor*high[10][key][1:24], color=\"gray\", linewidth=3)\n",
    "    if islow\n",
    "        plot!(wks, scalefactor*low[10][key][wks], color=\"#00467F\", linewidth=3)\n",
    "    else\n",
    "        plot!(wks, scalefactor*high[10][key][wks], color=\"#e65100\", linewidth=3)\n",
    "    end\n",
    "    xticks = collect(1:8.66:52)\n",
    "    xticklabels = [\"Aug\", \"Oct\", \"Dec\", \"Feb\", \"Apr\", \"Jun\"]\n",
    "    plot!(legend=false, ylims=ylims, ylabel=ylabel,title=title, xlims=(1,52), xticks=(xticks, xticklabels), xlabel=\"\")\n",
    "end\n",
    "\n",
    "function plotall(islow, low, high)\n",
    "    plot(\n",
    "        plotpowder(islow, low, high, :C, (0, 3), \"Cows Milking\\n(cows/ha)\", \"(a)\"),\n",
    "        plotpowder(islow, low, high, :P, (1.25,3.25), \"Pasture Cover\\n(t/ha)\",\"(b)\", 0.001),\n",
    "        plotpowder(islow, low, high, :W, (0,150), \"Soil Moisture\\n(mm)\",\"(c)\"),\n",
    "        plotpowder(islow, low, high, :gr, (0,70), \"Pasture Growth\\n(kg/day)\", \"(d)\"),\n",
    "        plotpowder(islow, low, high, :b, (0,6), \"Palm Kernel Fed\\n(kg/cow/day)\", \"(e)\", 1 / 3 / 7),\n",
    "        plotpowder(islow, low, high, :milk, (0,2.5), \"Milk Production\\n(kg/cow/day)\", \"(f)\", 1 / 3 / 7),\n",
    "        layout=(2,3), size=(1500,600)\n",
    "    )\n",
    "end\n",
    "plotall(false, low, high)\n",
    "savefig(\"farm_high.pdf\")\n",
    "plotall(true, low, high)\n",
    "savefig(\"farm_low.pdf\")"
   ]
  },
  {
   "cell_type": "code",
   "execution_count": null,
   "metadata": {
    "collapsed": true
   },
   "outputs": [],
   "source": [
    "# Plot Figure 7\n",
    "function plotdensity(df, label, linestyle, color=\"#00467F\")\n",
    "    fixedcost = data[\"fixed_cost\"]\n",
    "    density!([r[:objective]-fixedcost for r in df], label=label, color=color, linewidth=3, linestyle=linestyle)\n",
    "    vline!([mean([r[:objective]-fixedcost for r in df])], label=\"\", color=color, linewidth=3)\n",
    "end\n",
    "plot(size=(4 * 150,3 * 150),\n",
    "    xlabel=\"Operating Profit (\\$/ha)\\n\",\n",
    "    xlims=(-4000, 8000), \n",
    "    ylabel=\"Smoothed Density\", yticks=false)\n",
    "plotdensity(low_stocking, \"2.7 cows/ha\", :solid)\n",
    "plotdensity(results, \"3.0 cows/ha\", :dot, \"#e65100\")\n",
    "plot!(ylims=(0, 0.00035), legend=:topleft, bottom_margin=7.0Plots.mm, right_margin=5Plots.mm)\n",
    "savefig(\"density.pdf\")"
   ]
  },
  {
   "cell_type": "code",
   "execution_count": null,
   "metadata": {
    "collapsed": true
   },
   "outputs": [],
   "source": [
    "fixedcost = data[\"fixed_cost\"]\n",
    "@show mean([r[:objective]-fixedcost for r in results])\n",
    "@show mean([r[:objective]-fixedcost for r in low_stocking])"
   ]
  },
  {
   "cell_type": "code",
   "execution_count": null,
   "metadata": {
    "collapsed": true
   },
   "outputs": [],
   "source": [
    "# Plot Figure 8\n",
    "obj = Float64[]\n",
    "SR = [1.8, 2.1, 2.4, 2.7, 3.0]\n",
    "for sr in SR\n",
    "    sr_results = SDDP.load(string(\"experiments/SR\", sr, \"/POWDER.results\"))\n",
    "    fixedcost = data[\"fixed_cost\"]\n",
    "    push!(obj, mean([r[:objective]-fixedcost for r in sr_results]))\n",
    "end\n",
    "plot(size=(4 * 150,3 * 150),\n",
    "    xlabel=\"Stocking Rate (cows/Ha)\\n\",\n",
    "#     xlims=(-4000, 8000), \n",
    "    ylabel=\"Operating Profit (\\$/Ha)\")\n",
    "plot!(SR, obj, linewidth=3, color=\"#00467F\")\n",
    "plot!(legend=false, bottom_margin=7.0Plots.mm, right_margin=5Plots.mm, ylims=(2000, 3000), xlims=(1.8, 3.0), xticks=(SR))\n",
    "savefig(\"stockingrate.pdf\")"
   ]
  },
  {
   "cell_type": "code",
   "execution_count": null,
   "metadata": {
    "collapsed": true
   },
   "outputs": [],
   "source": [
    "# Plot Figure 8\n",
    "SR = [1.8, 2.1, 2.4, 2.7, 3.0]\n",
    "function plotquantile(SR, q)\n",
    "    obj = Float64[]\n",
    "    for sr in SR\n",
    "        sr_results = SDDP.load(string(\"experiments/SR\", sr, \"/POWDER.results\"))\n",
    "        i = 0.0\n",
    "        for r in sr_results\n",
    "            if sum(r[:mlk][1:44]) >= q * sum(data[\"max_milk_energy\"][1:44]) * sr - 1\n",
    "                i+=1.0\n",
    "            end\n",
    "        end\n",
    "        push!(obj, i / length(sr_results))\n",
    "    end\n",
    "    plot!(SR, obj, linewidth=1)#3, color=\"#00467F\")\n",
    "end\n",
    "\n",
    "plot(size=(4 * 150,3 * 150),\n",
    "    xlabel=\"Stocking Rate (cows/Ha)\\n\",\n",
    "#     xlims=(-4000, 8000), \n",
    "    ylabel=\"Operating Profit (\\$/Ha)\")\n",
    "plotquantile(SR, 1.0)\n",
    "plotquantile(SR, 0.9)\n",
    "plotquantile(SR, 0.8)\n",
    "plotquantile(SR, 0.7)\n",
    "plot!(legend=false, bottom_margin=7.0Plots.mm, right_margin=5Plots.mm, ylims=(0, 1), xlims=(1.8, 3.0), xticks=(SR))\n",
    "savefig(\"stockingrate.pdf\")"
   ]
  }
 ],
 "metadata": {
  "kernelspec": {
   "display_name": "Julia 0.6.2",
   "language": "julia",
   "name": "julia-0.6"
  },
  "language_info": {
   "file_extension": ".jl",
   "mimetype": "application/julia",
   "name": "julia",
   "version": "0.6.2"
  }
 },
 "nbformat": 4,
 "nbformat_minor": 2
}
