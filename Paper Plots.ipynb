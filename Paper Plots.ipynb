{
 "cells": [
  {
   "cell_type": "code",
   "execution_count": 5,
   "metadata": {},
   "outputs": [],
   "source": [
    "using JSON, SDDP\n",
    "using DataFrames, StatPlots\n",
    "data = JSON.parsefile(\"model.parameters.json\")\n",
    "results = SDDP.load(\"experiments/PaperRun/Powder.results\");"
   ]
  },
  {
   "cell_type": "code",
   "execution_count": 3,
   "metadata": {},
   "outputs": [
    {
     "name": "stderr",
     "output_type": "stream",
     "text": [
      "\u001b[1m\u001b[33mWARNING: \u001b[39m\u001b[22m\u001b[33mUnused font arg: 3.5277777777777777mm (Measures.Length{:mm,Float64})\u001b[39m\n",
      "\u001b[1m\u001b[33mWARNING: \u001b[39m\u001b[22m\u001b[33mUnused font arg: 4.2333333333333325mm (Measures.Length{:mm,Float64})\u001b[39m\n"
     ]
    },
    {
     "data": {
      "text/plain": [
       "Plots.GRBackend()"
      ]
     },
     "execution_count": 3,
     "metadata": {},
     "output_type": "execute_result"
    }
   ],
   "source": [
    "using Plots\n",
    "upscale = 1 #8x upscaling in resolution\n",
    "fntsm = Plots.font(\"times\", 10.0pt)\n",
    "fntlg = Plots.font(\"times\", 12.0pt)\n",
    "default(titlefont=fntlg, guidefont=fntlg, tickfont=fntsm, legendfont=fntsm,left_margin=10mm,bottom_margin=7.5mm)\n",
    "default(size=(800,600),top_margin=0mm, right_margin=0mm) #Plot canvas size\n",
    "gr()"
   ]
  },
  {
   "cell_type": "code",
   "execution_count": 3,
   "metadata": {
    "collapsed": true
   },
   "outputs": [],
   "source": [
    "plot(size=(750,500), left_margin=5mm, bottom_margin=5mm)\n",
    "milking_requirements = data[\"energy_for_pregnancy\"] + data[\"energy_for_bcs_milking\"] + data[\"energy_for_maintenance\"]\n",
    "dry_requirements = data[\"energy_for_pregnancy\"] + data[\"energy_for_bcs_dry\"] + data[\"energy_for_maintenance\"]\n",
    "\n",
    "plot!(milking_requirements, label=\"Total: Milking\",          linewidth=3, color=\"#00467F\")\n",
    "plot!(dry_requirements, label=\"Total: Dry\",                  linewidth=3, color=\"#00467F\", linestyle=:dot)\n",
    "plot!(data[\"energy_for_bcs_milking\"],label=\"BCS - Milking\",  linewidth=3, color=\"#e65100\")\n",
    "plot!(data[\"energy_for_bcs_dry\"],label=\"BCS - Dry\",          linewidth=3, color=\"#e65100\", linestyle=:dot)\n",
    "hline!([data[\"energy_for_maintenance\"]],label=\"Maintenance\", linewidth=3, color=\"#009AC7\", linestyle=:solid)\n",
    "plot!(data[\"energy_for_pregnancy\"], label=\"Pregnancy\",       linewidth=3, color=\"#009AC7\", linestyle=:dot)\n",
    "\n",
    "plot!(ylims=(-100,900), xlabel=\"Weeks since calving\", ylabel=\"Energy Requirement (MJ/Week)\", legend=:topleft)\n",
    "savefig(\"energy.pdf\")"
   ]
  },
  {
   "cell_type": "code",
   "execution_count": 4,
   "metadata": {},
   "outputs": [
    {
     "data": {
      "text/plain": [
       "15344.668905631466"
      ]
     },
     "execution_count": 4,
     "metadata": {},
     "output_type": "execute_result"
    }
   ],
   "source": [
    "function total_feed_requirements(dim, milk_produced)\n",
    "    wks = floor(Int, dim/7)\n",
    "    wk_frac = dim/7 - wks\n",
    "    total_201314 = sum(milking_requirements[1:wks]) + wk_frac * milking_requirements[wks+1] + (1-wk_frac) * dry_requirements[wks+1] + sum(dry_requirements[wks+2:end])\n",
    "    # kgDM/Ha required in the 2013/14 season excl. milking\n",
    "    feed_required = 3 * total_201314 / 11\n",
    "\n",
    "    avg_energy_content_of_milk = mean(data[\"energy_content_of_milk\"][1:wks])\n",
    "    # kgDM/Ha required in the 2013/14 season for milking\n",
    "    feed_required_for_milk = milk_produced * avg_energy_content_of_milk / 11\n",
    "#     feed_required_for_milk + 1.2feed_required # 0.16\n",
    "    1.1feed_required_for_milk + 1.1feed_required\n",
    "end\n",
    "\n",
    "feed201415 = total_feed_requirements(256, 1146)\n",
    "feed201314 = total_feed_requirements(275, 1240)\n"
   ]
  },
  {
   "cell_type": "code",
   "execution_count": 111,
   "metadata": {},
   "outputs": [
    {
     "data": {
      "text/plain": [
       "plotpowder (generic function with 2 methods)"
      ]
     },
     "execution_count": 111,
     "metadata": {},
     "output_type": "execute_result"
    }
   ],
   "source": [
    "key = :P\n",
    "function getresults(results, key, idx, scalefactor=1.0)\n",
    "    Q = [0.1, 0.25, 0.5, 0.75, 0.9]\n",
    "    g2 = hcat([scalefactor*results[i][key] for i in 1:length(results) if results[i][:markov][40] == idx]...)\n",
    "    g3 = hcat([quantile(g2[g,:], Q) for g in 1:size(g2, 1)]...)'\n",
    "    DataFrame(x10=g3[:,1], x25=g3[:,2], x50=g3[:,3], x75=g3[:,4], x90=g3[:,5])\n",
    "end\n",
    "                \n",
    "\n",
    "\n",
    "# plot!(blue, :x25, fill=(:x75, \"#00467F\"), fillalpha=0.25, alpha=0)\n",
    "# plot!(grey, :x25, fill=(:x75, \"grey\"), fillalpha=0.25, alpha=0)\n",
    "# plot!(orange, :x25, fill=(:x75, \"#e65100\"), fillalpha=0.25, alpha=0)\n",
    "\n",
    "\n",
    "                                                \n",
    "function plotpowder(results, key, ylims, ylabel,title,scalefactor=1.0)\n",
    "    maxidx = indmax([results[i][:markov][52] for i in 1:length(results)])\n",
    "    minidx = indmin([results[i][:markov][52] for i in 1:length(results)])\n",
    "    blue = getresults(results, key, 1, scalefactor)\n",
    "    grey = getresults(results, key, 2, scalefactor)\n",
    "    orange = getresults(results, key, 3, scalefactor)\n",
    "\n",
    "    plot()\n",
    "\n",
    "    plot!(blue, :x10, fill=(:x90, \"#00467F\"), c=\"#00467F\", fillalpha=0.25, alpha=1.0)\n",
    "    plot!(grey, :x10, fill=(:x90, \"grey\"), c=\"grey\", fillalpha=0.25, alpha=1)\n",
    "    plot!(orange, :x10, fill=(:x90, \"#e65100\"), c=\"#e65100\", fillalpha=0.25, alpha=1)\n",
    "    plot!(blue, :x90, c=\"#00467F\")\n",
    "    plot!(grey, :x90, c=\"grey\")\n",
    "    plot!(orange, :x90, c=\"#e65100\")\n",
    "\n",
    "    plot!(blue, :x50, c=\"#00467F\")\n",
    "    plot!(grey, :x50, c=\"grey\")\n",
    "    plot!(orange, :x50, c=\"#e65100\")\n",
    "                    \n",
    "    plot!(scalefactor*results[maxidx][key], color=\"#e65100\", linewidth=3)\n",
    "    plot!(scalefactor*results[minidx][key], color=\"#00467F\", linewidth=3)\n",
    "    xticks = collect(1:8.66:52)\n",
    "    xticklabels = [\"Aug\", \"Oct\", \"Dec\", \"Feb\", \"Apr\", \"Jun\"]\n",
    "    plot!(legend=false, ylims=ylims, ylabel=ylabel,title=title, xticks=(xticks, xticklabels), xlabel=\"\")\n",
    "end\n",
    "                                                                            "
   ]
  },
  {
   "cell_type": "code",
   "execution_count": 112,
   "metadata": {},
   "outputs": [
    {
     "name": "stderr",
     "output_type": "stream",
     "text": [
      "\u001b[1m\u001b[33mWARNING: \u001b[39m\u001b[22m\u001b[33mabs{T <: Number}(x::AbstractArray{T}) is deprecated, use abs.(x) instead.\u001b[39m\n",
      "Stacktrace:\n",
      " [1] \u001b[1mdepwarn\u001b[22m\u001b[22m\u001b[1m(\u001b[22m\u001b[22m::String, ::Symbol\u001b[1m)\u001b[22m\u001b[22m at \u001b[1m.\\deprecated.jl:70\u001b[22m\u001b[22m\n",
      " [2] \u001b[1mabs\u001b[22m\u001b[22m\u001b[1m(\u001b[22m\u001b[22m::StepRangeLen{Float64,Base.TwicePrecision{Float64},Base.TwicePrecision{Float64}}\u001b[1m)\u001b[22m\u001b[22m at \u001b[1m.\\deprecated.jl:57\u001b[22m\u001b[22m\n",
      " [3] \u001b[1mobjectiveplot\u001b[22m\u001b[22m\u001b[1m(\u001b[22m\u001b[22m::Array{Dict{Symbol,Any},1}, ::String\u001b[1m)\u001b[22m\u001b[22m at \u001b[1m.\\In[112]:76\u001b[22m\u001b[22m\n",
      " [4] \u001b[1minclude_string\u001b[22m\u001b[22m\u001b[1m(\u001b[22m\u001b[22m::String, ::String\u001b[1m)\u001b[22m\u001b[22m at \u001b[1m.\\loading.jl:515\u001b[22m\u001b[22m\n",
      " [5] \u001b[1minclude_string\u001b[22m\u001b[22m\u001b[1m(\u001b[22m\u001b[22m::Module, ::String, ::String\u001b[1m)\u001b[22m\u001b[22m at \u001b[1mC:\\Users\\odow003\\.julia\\v0.6\\Compat\\src\\Compat.jl:407\u001b[22m\u001b[22m\n",
      " [6] \u001b[1mexecute_request\u001b[22m\u001b[22m\u001b[1m(\u001b[22m\u001b[22m::ZMQ.Socket, ::IJulia.Msg\u001b[1m)\u001b[22m\u001b[22m at \u001b[1mC:\\Users\\odow003\\.julia\\v0.6\\IJulia\\src\\execute_request.jl:154\u001b[22m\u001b[22m\n",
      " [7] \u001b[1meventloop\u001b[22m\u001b[22m\u001b[1m(\u001b[22m\u001b[22m::ZMQ.Socket\u001b[1m)\u001b[22m\u001b[22m at \u001b[1mC:\\Users\\odow003\\.julia\\v0.6\\IJulia\\src\\eventloop.jl:8\u001b[22m\u001b[22m\n",
      " [8] \u001b[1m(::IJulia.##14#17)\u001b[22m\u001b[22m\u001b[1m(\u001b[22m\u001b[22m\u001b[1m)\u001b[22m\u001b[22m at \u001b[1m.\\task.jl:335\u001b[22m\u001b[22m\n",
      "while loading In[112], in expression starting on line 83\n"
     ]
    }
   ],
   "source": [
    "# function plotpowder(results, key, ylims, ylabel,title,scalefactor=1.0)\n",
    "#     maxidx = indmax([results[i][:markov][52] for i in 1:length(results)])\n",
    "#     minidx = indmin([results[i][:markov][52] for i in 1:length(results)])\n",
    "#     plot(\n",
    "#         hcat([scalefactor*results[i][key] for i in 1:length(results) if results[i][:markov][40] == 2 && mod(i, 2) == 0]...),\n",
    "#         color=\"gray\", alpha=0.12, linewidth=1\n",
    "#     )\n",
    "#     plot!(\n",
    "#         hcat([scalefactor*results[i][key] for i in 1:length(results) if results[i][:markov][40] == 1 && mod(i, 2) == 0]...),\n",
    "#         color=\"#00467F\", alpha=0.12, linewidth=1\n",
    "#     )\n",
    "    \n",
    "#     plot!(\n",
    "#         hcat([scalefactor*results[i][key] for i in 1:length(results) if results[i][:markov][40] == 3 && mod(i, 2) == 0]...),\n",
    "#         color=\"#e65100\", alpha=0.12, linewidth=1\n",
    "#     )\n",
    "\n",
    "#     plot!(scalefactor*results[maxidx][key], color=\"#e65100\", linewidth=3)\n",
    "#     plot!(scalefactor*results[minidx][key], color=\"#00467F\", linewidth=3)\n",
    "#     xticks = collect(1:8.66:52)\n",
    "#     xticklabels = [\"Aug\", \"Oct\", \"Dec\", \"Feb\", \"Apr\", \"Jun\"]\n",
    "#     plot!(legend=false, ylims=ylims, ylabel=ylabel,title=title, xticks=(xticks, xticklabels))\n",
    "# end\n",
    "\n",
    "function plotprice(results, title)\n",
    "    maxidx = indmax([results[i][:markov][52] for i in 1:length(results)])\n",
    "    minidx = indmin([results[i][:markov][52] for i in 1:length(results)])\n",
    "    prices = Vector{Float64}[]\n",
    "    for t in 1:24\n",
    "        push!(prices, [6.0])\n",
    "    end\n",
    "    for t in 25:51\n",
    "        push!(prices, [5.0, 6.0, 7.0])\n",
    "    end\n",
    "    push!(prices, [4.0, 5.0, 6.0, 7.0, 8.0])\n",
    "\n",
    "    function toprices(markov)\n",
    "       [prices[t][i] for (t,i) in enumerate(markov)] \n",
    "    end\n",
    "    plot(\n",
    "        hcat([toprices(results[i][:markov]) for i in 1:length(results) if results[i][:markov][40] == 2 && mod(i, 2) == 0]...),\n",
    "        color=\"gray\", linewidth=1, alpha=0.03\n",
    "    )\n",
    "    plot!(\n",
    "        hcat([toprices(results[i][:markov]) for i in 1:length(results) if results[i][:markov][40] == 1 && mod(i, 2) == 0]...),\n",
    "        color=\"#00467F\", linewidth=1, alpha=0.03\n",
    "    )\n",
    "\n",
    "    plot!(\n",
    "        hcat([toprices(results[i][:markov]) for i in 1:length(results) if results[i][:markov][40] == 3 && mod(i, 2) == 0]...),\n",
    "        color=\"#e65100\", linewidth=1, alpha=0.03\n",
    "    )\n",
    "    plot!(toprices(results[maxidx][:markov]), color=\"#e65100\", linewidth=3)\n",
    "    plot!(toprices(results[minidx][:markov]), color=\"#00467F\", linewidth=3)\n",
    "    xticks = collect(1:8.66:52)\n",
    "    xticklabels = [\"Aug\", \"Oct\", \"Dec\", \"Feb\", \"Apr\", \"Jun\"]\n",
    "    plot!(legend=false, ylabel=\"Forecast Price\\n(\\$/kg)\",title=title, xticks=(xticks, xticklabels))\n",
    "end\n",
    "\n",
    "function objectiveplot(results, title)\n",
    "    x1 = [r[:objective] - 3536.0 for r in results if r[:markov][40]==1]\n",
    "    x2 = [r[:objective] - 3536.0 for r in results if r[:markov][40]==2]\n",
    "    x3 = [r[:objective] - 3536.0 for r in results if r[:markov][40]==3]\n",
    "    bins = -1500:200:6500\n",
    "    y = zeros(size(bins, 1), 3)\n",
    "    for (row, l, u) in zip(1:size(bins, 1), bins[1:end-1], bins[2:end])\n",
    "        y[row, 1] = sum(l .<= x1 .<= u)\n",
    "        y[row, 2] = sum(l .<= x2 .<= u)\n",
    "        y[row, 3] = sum(l .<= x3 .<= u)\n",
    "    end\n",
    "    groupedbar(y, bar_position = :stack, bar_width=1, c=[\"#00467F\" \"gray\" \"#e65100\"], fillalpha=0.75)\n",
    "\n",
    "                                                                                                    \n",
    "    maxidx = indmax([results[i][:markov][52] for i in 1:length(results)])\n",
    "    minidx = indmin([results[i][:markov][52] for i in 1:length(results)])\n",
    "    vline!([indmin(abs(bins - (results[maxidx][:objective] - 3536.0)))], color=\"#e65100\", linewidth=3)\n",
    "    vline!([indmin(abs(bins - (results[minidx][:objective] - 3536.0)))], color=\"#00467F\", linewidth=3)\n",
    "    plot!(xticks=(3:10:size(y, 1), 0.5 * (bins[1:end-1] + bins[2:end])[3:10:end]))\n",
    "    plot!(ylabel=\"Number of Simulations\", xlabel=\"Operating Profit (\\$/Ha)\\n\", legend=false)\n",
    "    plot!(title=title)                                                                                            \n",
    "end\n",
    "\n",
    "plot(\n",
    "    objectiveplot(results, \"(a)\"),\n",
    "    plotprice(results, \"(b)\"),\n",
    "    plotpowder(results, :C, (0, 3), \"Cows Milking\\n(Cows/Ha)\", \"(c)\"),\n",
    "    plotpowder(results, :P, (1.5,3), \"Pasture Cover\\n(t/Ha)\",\"(d)\", 0.001),\n",
    "    plotpowder(results, :W, (0,150), \"Soil Moisture\\n(mm)\",\"(e)\"),\n",
    "#     plotpowder(results, :ev, (0,45), \"Evapotranspiration\\n(mm/Week)\", \"(e)\"),\n",
    "    plotpowder(results, :gr, (0,70), \"Pasture Growth\\n(kg/Day)\", \"(f)\"),\n",
    "    plotpowder(results, :fₛ, (0,150), \"Supplement Fed\\n(kg/Week)\", \"(g)\"),\n",
    "    plotpowder(results, :milk, (0,2.5), \"Milk Production\\n(kgMS/Cow/Day)\", \"(h)\", 1 / 3 / 7),\n",
    "    layout=(4,2), size=(1000,1200)\n",
    ")\n",
    "savefig(\"farm.pdf\")"
   ]
  },
  {
   "cell_type": "code",
   "execution_count": null,
   "metadata": {
    "collapsed": true
   },
   "outputs": [],
   "source": [
    "df = readtable(\"data/TGA.daily.df.csv\")\n",
    "q = [0.0, 0.1, 0.25, 0.5, 0.75, 0.9, 1.0]\n",
    "rainfall = unstack(by(df, :week) do io\n",
    "   DataFrame(\n",
    "        rainfall = quantile(io[:rainfall], q),\n",
    "        quantile = q\n",
    "        ) \n",
    "        end, :quantile, :rainfall)\n",
    "\n",
    "evapotranspiration = unstack(by(df, :week) do io\n",
    "   DataFrame(\n",
    "        evapotranspiration = quantile(io[:evapotranspiration], q),\n",
    "        quantile = q\n",
    "        ) \n",
    "        end, :quantile, :evapotranspiration)\n",
    "\n",
    "plot(rainfall, Symbol(0.5), w=3, c=\"#00467F\")\n",
    "plot!(rainfall, Symbol(0.0), fill=(Symbol(1.0), \"#00467F\"), fillalpha=0.25, alpha=0)\n",
    "plot!(rainfall, Symbol(0.1), fill=(Symbol(0.9), \"#00467F\"), fillalpha=0.25, alpha=0)\n",
    "plot!(rainfall, Symbol(0.25), fill=(Symbol(0.75), \"#00467F\"), fillalpha=0.25, alpha=0)\n",
    "rainfall_plot = plot!(legend=false, title=\"(a)\", xlabel=\"Week of Year\", ylabel=\"Rainfall\\n(mm/Week)\")\n",
    "\n",
    "plot(evapotranspiration, Symbol(0.5), w=3, c=\"#00467F\")\n",
    "plot!(evapotranspiration, Symbol(0.0), fill=(Symbol(1.0), \"#00467F\"), fillalpha=0.25, alpha=0)\n",
    "plot!(evapotranspiration, Symbol(0.1), fill=(Symbol(0.9), \"#00467F\"), fillalpha=0.25, alpha=0)\n",
    "plot!(evapotranspiration, Symbol(0.25), fill=(Symbol(0.75), \"#00467F\"), fillalpha=0.25, alpha=0)\n",
    "evapotranspiration_plot = plot!(legend=false, title=\"(b)\", xlabel=\"Week of Year\", ylabel=\"Evapotranspiration\\n(mm/Week)\")\n",
    "\n",
    "plot(rainfall_plot, evapotranspiration_plot, layout=(1,2), size=(1000,375), left_margin=8mm, bottom_margin=5mm)\n",
    "savefig(\"weather.pdf\")"
   ]
  },
  {
   "cell_type": "code",
   "execution_count": null,
   "metadata": {
    "collapsed": true
   },
   "outputs": [],
   "source": [
    "using Query\n",
    "y14_15 = @from i in df begin\n",
    "    @where (i.year == 2014 && i.week >= 31) || (i.year == 2015 && i.week < 31)\n",
    "    @select {i.evapotranspiration}\n",
    "    @collect DataFrame\n",
    "end\n",
    "k14_15 = (15-2.9) * 1000 / sum(y14_15[:evapotranspiration])\n",
    "\n",
    "y13_14 = @from i in df begin\n",
    "    @where (i.year == 2013 && i.week >= 31) || (i.year == 2014 && i.week < 31)\n",
    "    @select {i.evapotranspiration}\n",
    "    @collect DataFrame\n",
    "end\n",
    "k13_14 = (15.9 - 2.8) * 1000 / sum(y13_14[:evapotranspiration])\n",
    "k13_14, k14_15"
   ]
  },
  {
   "cell_type": "code",
   "execution_count": null,
   "metadata": {
    "collapsed": true
   },
   "outputs": [],
   "source": [
    "# df[:gr] = df[:evapotranspiration] / 7;\n",
    "scatter(df, :week, :gr, group=:year,\n",
    "    legend=false, size=(500,375),c=\"#00467F\", markerstrokewidth=0, alpha=0.5)\n",
    "df2 = by(df, :week) do io\n",
    "    mean(io[:gr])\n",
    "end\n",
    "plot!(df2, :week, :x1, w=5, c=\"#e65100\")\n",
    "# hline!([15, 60])"
   ]
  },
  {
   "cell_type": "code",
   "execution_count": null,
   "metadata": {
    "collapsed": true
   },
   "outputs": [],
   "source": [
    "using Interpolations\n",
    "growth = 7*[50,55,45,41,31,19,19,30,47,74,63,50]\n",
    "dates  = [Dates.week(Dates.Date(2017,i,15)) for i in 1:12]\n",
    "itp = interpolate((dates, ), growth, Gridded(Linear()))\n",
    "\n",
    "df3 = by(df, :week) do io\n",
    "    mean(io[:evapotranspiration])\n",
    "end\n",
    "# x = Dates.monthabbr.(collect(df3[:month]))\n",
    "ev = collect(df3[:x1])\n",
    "# grth = 7*[50,55,45,41,31,19,19,30,47,74,63,50]*0.86\n",
    "\n",
    "A = hcat(ones(52), ev)\n",
    "A = ev\n",
    "b = itp[1:52]\n",
    "k = (A' * A) \\ (A' * b)\n",
    "\n",
    "# predicted_growth = k[1] + k[2] * ev\n",
    "predicted_growth = k[1] * ev\n",
    "\n",
    "α = 0.8 * b ./ predicted_growth\n",
    "plot(α, size=(500, 375), xlims=(1,52),ylims=(0, 1.75))\n",
    "# df[:gr] = map((ev, w)->α[w] * (k[1] + k[2]*ev) / 7, df[:evapotranspiration], df[:week])\n",
    "df[:gr] = map((ev, w)->α[w] * (k[1]*ev) / 7, df[:evapotranspiration], df[:week])\n",
    "\n",
    "scatter(df, :week, :gr, c=\"#00467F\", markerstrokewidth=0, alpha=0.5, label=\"Historic Estimates\")\n",
    "# plot!(α .* (k[1] + k[2] * ev) / 7, c=\"#e65100\", w=3, label=\"Average\")\n",
    "plot!(α .* (k[1] * ev) / 7, c=\"#e65100\", w=3, label=\"Average\")\n",
    "plot!(xlabel=\"\", xlims=(1,52), xlabel=\"Week of Year\")\n",
    "plot!(ylims=(0,90), ylabel=\"Growth (kgDM/Ha/Day)\")\n",
    "plot!(legend=:topleft)#, size=(500,375))\n",
    "savefig(\"growth.pdf\")"
   ]
  },
  {
   "cell_type": "code",
   "execution_count": null,
   "metadata": {
    "collapsed": true
   },
   "outputs": [],
   "source": [
    "β = round.(α * k[1], 2)\n",
    "\n",
    "JSON.json(vcat(β[31:end], β[1:30]))"
   ]
  },
  {
   "cell_type": "code",
   "execution_count": null,
   "metadata": {
    "collapsed": true
   },
   "outputs": [],
   "source": [
    "hgh = 3\n",
    "plot(xlabel=\"Quantity (kg/Cow/Day)\", ylabel=\"Price Multiplier\",legend=false,ylims=(0,2hgh))\n",
    "xbx = [0.0, 2.0, 2.0, 0.0]\n",
    "ybx = [0, 0, 2hgh, 2hgh]\n",
    "plot!(Plots.Shape(xbx, ybx), fillalpha=0.5, w=0, c=\"green\", alpha=0)\n",
    "plot!(Plots.Shape(2+xbx, ybx), fillalpha=0.5, w=0, c=\"orange\", alpha=0)\n",
    "plot!(Plots.Shape(4+xbx, ybx), fillalpha=0.5, w=0, c=\"red\", alpha=0)\n",
    "# plot!(Plots.Shape(6+xbx, ybx), fillalpha=0.66, w=0, c=\"red\", alpha=0)\n",
    "plot!([0, 3, 4, 6], 1+[0, 0, 1, 5], w=5, c=\"#00467F\")\n",
    "plot!(size=(4 * 175,3 * 175), left_margin=5mm, bottom_margin=5mm)\n",
    "annotate!([(1,3,text(\"FEI Grade A\")), (3,3,text(\"FEI Grade B\")), (5,3,text(\"FEI Grade C\"))])\n",
    "savefig(\"fei_penalty.pdf\")"
   ]
  }
 ],
 "metadata": {
  "kernelspec": {
   "display_name": "Julia 0.6.0",
   "language": "julia",
   "name": "julia-0.6"
  },
  "language_info": {
   "file_extension": ".jl",
   "mimetype": "application/julia",
   "name": "julia",
   "version": "0.6.0"
  }
 },
 "nbformat": 4,
 "nbformat_minor": 2
}
