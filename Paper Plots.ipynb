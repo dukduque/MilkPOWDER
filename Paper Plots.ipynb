{
 "cells": [
  {
   "cell_type": "code",
   "execution_count": null,
   "metadata": {},
   "outputs": [],
   "source": [
    "# set this to point to the parameter file used\n",
    "const PARAMETER_FILE = \"model.parameters.json\"\n",
    "# set this to point to the .results file containing the simulations\n",
    "const RESULTS_PREFIX = \"Powder\"#.results, .high.results etc\n",
    "const WEATHER_FILE   = \"data/TGA.daily.df.csv\"\n",
    "const LOW_STOCKING_RESULTS = \"Powder.results\""
   ]
  },
  {
   "cell_type": "code",
   "execution_count": null,
   "metadata": {},
   "outputs": [],
   "source": [
    "using JSON, SDDP,DataFrames#, StatPlots\n",
    "data = JSON.parsefile(PARAMETER_FILE)\n",
    "results = SDDP.load(string(RESULTS_PREFIX, \".results\"));\n",
    "low = SDDP.load(string(RESULTS_PREFIX, \".low.results\"));\n",
    "high = SDDP.load(string(RESULTS_PREFIX, \".high.results\"));\n",
    "low_stocking = SDDP.load(LOW_STOCKING_RESULTS);"
   ]
  },
  {
   "cell_type": "code",
   "execution_count": null,
   "metadata": {},
   "outputs": [],
   "source": [
    "using Plots, StatPlots\n",
    "const mm = Plots.mm\n",
    "const pt = Plots.pt\n",
    "fntsm = Plots.font(\"times\", 10.0pt)\n",
    "fntlg = Plots.font(\"times\", 12.0pt)\n",
    "default(titlefont=fntlg, guidefont=fntlg, tickfont=fntsm, legendfont=fntsm,left_margin=10mm,bottom_margin=7.5mm)\n",
    "default(size=(800,600),top_margin=0mm, right_margin=0mm)\n",
    "gr()"
   ]
  },
  {
   "cell_type": "code",
   "execution_count": null,
   "metadata": {
    "collapsed": true
   },
   "outputs": [],
   "source": [
    "# Plot Figure 1 in the paper\n",
    "plot(size=(750,500), left_margin=5mm, bottom_margin=5mm)\n",
    "milking_requirements = data[\"energy_for_pregnancy\"] + data[\"energy_for_bcs_milking\"] + data[\"energy_for_maintenance\"]\n",
    "dry_requirements = data[\"energy_for_pregnancy\"] + data[\"energy_for_bcs_dry\"] + data[\"energy_for_maintenance\"]\n",
    "plot!(milking_requirements, label=\"Total: Lactating Cow\", linewidth=3, color=\"#00467F\")\n",
    "plot!(dry_requirements, label=\"Total: Dry Cow\", linewidth=3, color=\"#00467F\", linestyle=:dot)\n",
    "plot!(data[\"energy_for_bcs_milking\"],label=\"Change in BCS: Lactating Cow\", linewidth=3, color=\"#e65100\")\n",
    "plot!(data[\"energy_for_bcs_dry\"],label=\"Change in BCS: Lactating Cow\", linewidth=3, color=\"#e65100\", linestyle=:dot)\n",
    "hline!([data[\"energy_for_maintenance\"]],label=\"Maintenance\", linewidth=3, color=\"#009AC7\", linestyle=:solid)\n",
    "plot!(data[\"energy_for_pregnancy\"], label=\"Pregnancy\", linewidth=3, color=\"#009AC7\", linestyle=:dash)\n",
    "plot!(ylims=(-100,900), xlabel=\"Weeks since calving\", ylabel=\"Energy Requirement (MJ/Week)\", legend=:topleft)\n",
    "savefig(\"energy.pdf\")"
   ]
  },
  {
   "cell_type": "code",
   "execution_count": null,
   "metadata": {
    "collapsed": true,
    "scrolled": false
   },
   "outputs": [],
   "source": [
    "# Plot Figure 4\n",
    "hgh = 3\n",
    "plot(xlabel=\"Quantity of Palm Kernel Fed (kg/Cow/Day)\", ylabel=\"Penalty (\\$/Cow/Day)\",legend=false,ylims=(0,1.25))\n",
    "xbx = [0.0, 2.0, 2.0, 0.0]\n",
    "ybx = [0, 0, 2hgh, 2hgh]\n",
    "plot!(Plots.Shape(xbx, ybx), fillalpha=0.5, w=0, c=\"green\", alpha=0)\n",
    "plot!(Plots.Shape(2+xbx, ybx), fillalpha=0.5, w=0, c=\"orange\", alpha=0)\n",
    "plot!(Plots.Shape(4+xbx, ybx), fillalpha=0.5, w=0, c=\"red\", alpha=0)\n",
    "plot!([0, 3, 4, 5, 6], [0, 0, 0.25, 0.75,1.75], w=5, c=\"#00467F\")\n",
    "plot!(size=(4 * 175,2 * 175), left_margin=5mm, bottom_margin=5mm)\n",
    "annotate!([(1,0.4,text(\"Fat Evaluation Index\\nGrade A\")), (3,0.4,text(\"Fat Evaluation Index\\nGrade B\")), (5,0.4,text(\"Fat Evaluation Index\\nGrade C\"))])\n",
    "savefig(\"fei_penalty.pdf\")"
   ]
  },
  {
   "cell_type": "code",
   "execution_count": null,
   "metadata": {},
   "outputs": [],
   "source": [
    "# Plot Figure 5\n",
    "df = readtable(WEATHER_FILE)\n",
    "q = [0.0, 0.1, 0.25, 0.5, 0.75, 0.9, 1.0]\n",
    "rainfall = unstack(by(df, :week) do io\n",
    "   DataFrame(\n",
    "        rainfall = quantile(io[:rainfall], q),\n",
    "        quantile = q\n",
    "        ) \n",
    "        end, :quantile, :rainfall)\n",
    "plot(rainfall, Symbol(0.5), w=3, c=\"#00467F\")\n",
    "plot!(rainfall, Symbol(0.0), fill=(Symbol(1.0), \"#00467F\"), fillalpha=0.25, alpha=0)\n",
    "plot!(rainfall, Symbol(0.1), fill=(Symbol(0.9), \"#00467F\"), fillalpha=0.25, alpha=0)\n",
    "plot!(rainfall, Symbol(0.25), fill=(Symbol(0.75), \"#00467F\"), fillalpha=0.25, alpha=0)\n",
    "rainfall_plot = plot!(legend=false, title=\"(a)\", xlabel=\"Week of Year\", ylabel=\"Rainfall\\n(mm/Week)\")\n",
    "evapotranspiration = unstack(by(df, :week) do io\n",
    "   DataFrame(\n",
    "        evapotranspiration = quantile(io[:evapotranspiration], q),\n",
    "        quantile = q\n",
    "        ) \n",
    "        end, :quantile, :evapotranspiration)\n",
    "plot(evapotranspiration, Symbol(0.5), w=3, c=\"#00467F\")\n",
    "plot!(evapotranspiration, Symbol(0.0), fill=(Symbol(1.0), \"#00467F\"), fillalpha=0.25, alpha=0)\n",
    "plot!(evapotranspiration, Symbol(0.1), fill=(Symbol(0.9), \"#00467F\"), fillalpha=0.25, alpha=0)\n",
    "plot!(evapotranspiration, Symbol(0.25), fill=(Symbol(0.75), \"#00467F\"), fillalpha=0.25, alpha=0)\n",
    "evapotranspiration_plot = plot!(legend=false, title=\"(b)\", xlabel=\"Week of Year\", ylabel=\"Evapotranspiration\\n(mm/Week)\")\n",
    "plot(rainfall_plot, evapotranspiration_plot, layout=(1,2), size=(1000,375), left_margin=8mm, bottom_margin=5mm)\n",
    "savefig(\"weather.pdf\")"
   ]
  },
  {
   "cell_type": "code",
   "execution_count": null,
   "metadata": {
    "collapsed": true
   },
   "outputs": [],
   "source": [
    "# Plot Figures 5 and 6\n",
    "function getresults(results, key, scalefactor=1.0)\n",
    "    Q = [0.0, 0.05, 0.5, 0.95, 1.0]\n",
    "    g2 = hcat([scalefactor*r[key] for r in results]...)\n",
    "    g3 = hcat([quantile(g2[g,:], Q) for g in 1:size(g2, 1)]...)'\n",
    "    DataFrame(week=1:size(g3, 1), x10=g3[:,1], x25=g3[:,2], x50=g3[:,3], x75=g3[:,4], x90=g3[:,5])\n",
    "end\n",
    "function plotpowder(islow, low, high, key, ylims, ylabel,title,scalefactor=1.0)\n",
    "    wks = 24:52\n",
    "    blue = getresults(low, key, scalefactor)[wks, :]\n",
    "    orange = getresults(high, key, scalefactor)[wks, :]\n",
    "\n",
    "    gray = getresults(vcat(low, high), key, scalefactor)[1:24, :]\n",
    "    \n",
    "    plot()\n",
    "    plot!(gray, :week, :x10, fill=(:x90, \"gray\"), c=\"gray\", fillalpha=0.3, alpha=0.0)\n",
    "    plot!(gray, :week, :x25, fill=(:x75, \"gray\"), c=\"gray\", fillalpha=0.3, alpha=0.0)\n",
    "    plot!(gray, :week, :x50, c=\"gray\", w=2, linestyle=:dot)\n",
    "    \n",
    "    if islow\n",
    "        plot!(blue,   :week, :x10, fill=(:x90, \"#00467F\"), c=\"#00467F\", fillalpha=0.3, alpha=0)\n",
    "        plot!(blue,   :week, :x25, fill=(:x75, \"#00467F\"), c=\"#00467F\", fillalpha=0.3, alpha=0)\n",
    "        plot!(blue, :week, :x50, c=\"#00467F\", w=2, linestyle=:dot)\n",
    "    else\n",
    "        plot!(orange, :week, :x10, fill=(:x90, \"#e65100\"), c=\"#e65100\", fillalpha=0.3, alpha=0)\n",
    "        plot!(orange, :week, :x25, fill=(:x75, \"#e65100\"), c=\"#e65100\", fillalpha=0.3, alpha=0)\n",
    "        plot!(orange, :week, :x50, c=\"#e65100\", w=2, linestyle=:dot)\n",
    "    end\n",
    "    plot!(1:24, scalefactor*high[10][key][1:24], color=\"gray\", linewidth=3)\n",
    "    if islow\n",
    "        plot!(wks, scalefactor*low[10][key][wks], color=\"#00467F\", linewidth=3)\n",
    "    else\n",
    "        plot!(wks, scalefactor*high[10][key][wks], color=\"#e65100\", linewidth=3)\n",
    "    end\n",
    "    xticks = collect(1:8.66:52)\n",
    "    xticklabels = [\"Aug\", \"Oct\", \"Dec\", \"Feb\", \"Apr\", \"Jun\"]\n",
    "    plot!(legend=false, ylims=ylims, ylabel=ylabel,title=title, xlims=(1,52), xticks=(xticks, xticklabels), xlabel=\"\")\n",
    "end\n",
    "\n",
    "function plotall(islow, low, high)\n",
    "    plot(\n",
    "        plotpowder(islow, low, high, :C, (0, 3), \"Cows Milking\\n(Cows/Ha)\", \"(a)\"),\n",
    "        plotpowder(islow, low, high, :P, (1.25,3.25), \"Pasture Cover\\n(t/Ha)\",\"(b)\", 0.001),\n",
    "        plotpowder(islow, low, high, :W, (0,150), \"Soil Moisture\\n(mm)\",\"(c)\"),\n",
    "        plotpowder(islow, low, high, :gr, (0,70), \"Pasture Growth\\n(kg/Day)\", \"(d)\"),\n",
    "        plotpowder(islow, low, high, :b, (0,6), \"Palm Kernel Fed\\n(kg/Cow/Day)\", \"(e)\", 1 / 3 / 7),\n",
    "        plotpowder(islow, low, high, :milk, (0,2.5), \"Milk Production\\n(kg/Cow/Day)\", \"(f)\", 1 / 3 / 7),\n",
    "        layout=(2,3), size=(1500,600)\n",
    "    )\n",
    "end\n",
    "plotall(false, low, high)\n",
    "savefig(\"farm_high.pdf\")\n",
    "plotall(true, low, high)\n",
    "savefig(\"farm_low.pdf\")"
   ]
  },
  {
   "cell_type": "code",
   "execution_count": null,
   "metadata": {
    "collapsed": true
   },
   "outputs": [],
   "source": [
    "# Plot Figure 7\n",
    "fixedcost = data[\"fixed_cost\"]\n",
    "density([r[:objective]-fixedcost for r in low_stocking], label=\"2.7 Cows/Ha\", color=\"#00467F\", linewidth=3)\n",
    "density!([r[:objective]-fixedcost for r in results], label=\"3.0 Cows/Ha\", color=\"#e65100\", linewidth=3, linestyle=:dot)\n",
    "vline!([mean([r[:objective]-fixedcost for r in low_stocking])], label=\"\", color=\"#00467F\", linewidth=3)\n",
    "vline!([mean([r[:objective]-fixedcost for r in results])], label=\"\", color=\"#e65100\", linewidth=3, linestyle=:dot)\n",
    "plot!(size=(4 * 150,3 * 150), xlabel=\"Operating Profit (\\$/Ha)\\n\", xlims=(-4000, 8000), ylims=(0, 0.00035), ylabel=\"Fraction of Simulations\")\n",
    "plot!(legend=:topleft, bottom_margin=7.0Plots.mm, right_margin=5Plots.mm)\n",
    "savefig(\"density.pdf\")"
   ]
  }
 ],
 "metadata": {
  "kernelspec": {
   "display_name": "Julia 0.6.0",
   "language": "julia",
   "name": "julia-0.6"
  },
  "language_info": {
   "file_extension": ".jl",
   "mimetype": "application/julia",
   "name": "julia",
   "version": "0.6.0"
  }
 },
 "nbformat": 4,
 "nbformat_minor": 2
}
