{
 "cells": [
  {
   "cell_type": "code",
   "execution_count": 357,
   "metadata": {},
   "outputs": [],
   "source": [
    "using JSON, SDDP\n",
    "data = JSON.parsefile(\"model.parameters.json\")\n",
    "results = SDDP.load(\"model/Powder.results\");"
   ]
  },
  {
   "cell_type": "code",
   "execution_count": 358,
   "metadata": {},
   "outputs": [
    {
     "name": "stderr",
     "output_type": "stream",
     "text": [
      "\u001b[1m\u001b[33mWARNING: \u001b[39m\u001b[22m\u001b[33mUnused font arg: 3.5277777777777777mm (Measures.Length{:mm,Float64})\u001b[39m\n",
      "\u001b[1m\u001b[33mWARNING: \u001b[39m\u001b[22m\u001b[33mUnused font arg: 4.2333333333333325mm (Measures.Length{:mm,Float64})\u001b[39m\n"
     ]
    },
    {
     "data": {
      "text/plain": [
       "Plots.GRBackend()"
      ]
     },
     "execution_count": 358,
     "metadata": {},
     "output_type": "execute_result"
    }
   ],
   "source": [
    "using Plots\n",
    "upscale = 1 #8x upscaling in resolution\n",
    "fntsm = Plots.font(\"times\", 10.0pt)\n",
    "fntlg = Plots.font(\"times\", 12.0pt)\n",
    "default(titlefont=fntlg, guidefont=fntlg, tickfont=fntsm, legendfont=fntsm)#,left_margin=10mm,bottom_margin=7.5mm)\n",
    "default(size=(800,600),top_margin=0mm, right_margin=0mm) #Plot canvas size\n",
    "gr()"
   ]
  },
  {
   "cell_type": "code",
   "execution_count": 359,
   "metadata": {},
   "outputs": [],
   "source": [
    "plot(size=(750,500), left_margin=5mm, bottom_margin=5mm)\n",
    "milking_requirements = data[\"energy_for_pregnancy\"] + data[\"energy_for_bcs_milking\"] + data[\"energy_for_maintenance\"]\n",
    "dry_requirements = data[\"energy_for_pregnancy\"] + data[\"energy_for_bcs_dry\"] + data[\"energy_for_maintenance\"]\n",
    "\n",
    "plot!(milking_requirements, label=\"Total: Milking\",          linewidth=3, color=\"#00467F\")\n",
    "plot!(dry_requirements, label=\"Total: Dry\",                  linewidth=3, color=\"#00467F\", linestyle=:dot)\n",
    "plot!(data[\"energy_for_bcs_milking\"],label=\"BCS - Milking\",  linewidth=3, color=\"#e65100\")\n",
    "plot!(data[\"energy_for_bcs_dry\"],label=\"BCS - Dry\",          linewidth=3, color=\"#e65100\", linestyle=:dot)\n",
    "hline!([data[\"energy_for_maintenance\"]],label=\"Maintenance\", linewidth=3, color=\"#009AC7\", linestyle=:solid)\n",
    "plot!(data[\"energy_for_pregnancy\"], label=\"Pregnancy\",       linewidth=3, color=\"#009AC7\", linestyle=:dot)\n",
    "\n",
    "plot!(ylims=(-100,900), xlabel=\"Weeks since calving\", ylabel=\"Energy Requirement (MJ/Week)\", legend=:topleft)\n",
    "savefig(\"energy.pdf\")"
   ]
  },
  {
   "cell_type": "code",
   "execution_count": 365,
   "metadata": {},
   "outputs": [],
   "source": [
    "function plotpowder(results, key, ylims, ylabel,title)\n",
    "    maxidx = indmax([results[i][:markov][35] for i in 1:length(results)])\n",
    "    minidx = indmin([results[i][:markov][35] for i in 1:length(results)])\n",
    "    plot(\n",
    "        hcat([results[i][key] for i in 1:length(results) if results[i][:markov][40] == 2]...),\n",
    "        color=\"gray\", alpha=0.03, linewidth=1\n",
    "    )\n",
    "    plot!(\n",
    "        hcat([results[i][key] for i in 1:length(results) if results[i][:markov][40] == 1]...),\n",
    "        color=\"#00467F\", alpha=0.03, linewidth=1\n",
    "    )\n",
    "    \n",
    "    plot!(\n",
    "        hcat([results[i][key] for i in 1:length(results) if results[i][:markov][40] == 3]...),\n",
    "        color=\"#e65100\", alpha=0.03, linewidth=1\n",
    "    )\n",
    "\n",
    "    plot!(results[maxidx][key], color=\"#e65100\", linewidth=3)\n",
    "    plot!(results[minidx][key], color=\"#00467F\", linewidth=3)\n",
    "\n",
    "    plot!(legend=false, ylims=ylims, xlabel=\"Weeks since calving\\n\", ylabel=ylabel,title=title)\n",
    "end\n",
    "\n",
    "function plotprice(results, title)\n",
    "    maxidx = indmax([results[i][:markov][35] for i in 1:length(results)])\n",
    "    minidx = indmin([results[i][:markov][35] for i in 1:length(results)])\n",
    "    prices = Vector{Float64}[]\n",
    "    for t in 1:24\n",
    "        push!(prices, [6.0])\n",
    "    end\n",
    "    for t in 25:51\n",
    "        push!(prices, [5.0, 6.0, 7.0])\n",
    "    end\n",
    "    push!(prices, [4.0, 5.0, 6.0, 7.0, 8.0])\n",
    "\n",
    "    function toprices(markov)\n",
    "       [prices[t][i] for (t,i) in enumerate(markov)] \n",
    "    end\n",
    "    plot(\n",
    "        hcat([toprices(results[i][:markov]) for i in 1:length(results) if results[i][:markov][40] == 2]...),\n",
    "        color=\"gray\", linewidth=1, alpha=0.03\n",
    "    )\n",
    "    plot!(\n",
    "        hcat([toprices(results[i][:markov]) for i in 1:length(results) if results[i][:markov][40] == 1]...),\n",
    "        color=\"#00467F\", linewidth=1, alpha=0.03\n",
    "    )\n",
    "\n",
    "    plot!(\n",
    "        hcat([toprices(results[i][:markov]) for i in 1:length(results) if results[i][:markov][40] == 3]...),\n",
    "        color=\"#e65100\", linewidth=1, alpha=0.03\n",
    "    )\n",
    "    plot!(toprices(results[maxidx][:markov]), color=\"#e65100\", linewidth=3)\n",
    "    plot!(toprices(results[minidx][:markov]), color=\"#00467F\", linewidth=3)\n",
    "    plot!(legend=false, xlabel=\"Weeks since calving\\n\", ylabel=\"Forecast Price\\n(\\$/kg)\",title=title)\n",
    "end\n",
    "                                                                                \n",
    "plot(\n",
    "    plotprice(results, \"(a)\"),\n",
    "    plotpowder(results, :C, (-0.05, 3.5), \"Cows Milking\\n(Cows/Ha)\", \"(b)\"),\n",
    "    plotpowder(results, :P, (3,3500), \"Pasture Cover\\n(kg/Ha)\",\"(c)\"),\n",
    "    plotpowder(results, :W, (0,150), \"Soil Moisture\\n(mm)\",\"(d)\"),\n",
    "    plotpowder(results, :ev, (0,45), \"Evapotranspiration\\n(mm/Week)\", \"(e)\"),\n",
    "    plotpowder(results, :gr, (0,70), \"Pasture Growth\\n(kg/Day)\", \"(f)\"),\n",
    "    plotpowder(results, :fₛ, (0,110), \"Supplement Fed\\n(kg/Week)\", \"(g)\"),\n",
    "    plotpowder(results, :mlk, (0,4000), \"Energy for Milk\\n(MJ/Week)\", \"(h)\"),\n",
    "    layout=(4,2), size=(1000,1200)\n",
    ")\n",
    "savefig(\"farm.pdf\")"
   ]
  },
  {
   "cell_type": "code",
   "execution_count": 351,
   "metadata": {},
   "outputs": [],
   "source": [
    "using DataFrames, StatPlots\n",
    "df = readtable(\"data/TGA.daily.df.csv\")\n",
    "q = [0.0, 0.1, 0.25, 0.5, 0.75, 0.9, 1.0]\n",
    "rainfall = unstack(by(df, :week) do io\n",
    "   DataFrame(\n",
    "        rainfall = quantile(io[:rainfall], q),\n",
    "        quantile = q\n",
    "        ) \n",
    "        end, :quantile, :rainfall)\n",
    "\n",
    "evapotranspiration = unstack(by(df, :week) do io\n",
    "   DataFrame(\n",
    "        evapotranspiration = quantile(io[:evapotranspiration], q),\n",
    "        quantile = q\n",
    "        ) \n",
    "        end, :quantile, :evapotranspiration)\n",
    "\n",
    "plot(rainfall, Symbol(0.5), w=3, c=\"#00467F\")\n",
    "plot!(rainfall, Symbol(0.0), fill=(Symbol(1.0), \"#00467F\"), fillalpha=0.25, alpha=0)\n",
    "plot!(rainfall, Symbol(0.1), fill=(Symbol(0.9), \"#00467F\"), fillalpha=0.25, alpha=0)\n",
    "plot!(rainfall, Symbol(0.25), fill=(Symbol(0.75), \"#00467F\"), fillalpha=0.25, alpha=0)\n",
    "rainfall_plot = plot!(legend=false, title=\"(a)\", xlabel=\"Week of Year\", ylabel=\"Rainfall\\n(mm/Week)\")\n",
    "\n",
    "plot(evapotranspiration, Symbol(0.5), w=3, c=\"#00467F\")\n",
    "plot!(evapotranspiration, Symbol(0.0), fill=(Symbol(1.0), \"#00467F\"), fillalpha=0.25, alpha=0)\n",
    "plot!(evapotranspiration, Symbol(0.1), fill=(Symbol(0.9), \"#00467F\"), fillalpha=0.25, alpha=0)\n",
    "plot!(evapotranspiration, Symbol(0.25), fill=(Symbol(0.75), \"#00467F\"), fillalpha=0.25, alpha=0)\n",
    "evapotranspiration_plot = plot!(legend=false, title=\"(b)\", xlabel=\"Week of Year\", ylabel=\"Evapotranspiration\\n(mm/Week)\")\n",
    "\n",
    "plot(rainfall_plot, evapotranspiration_plot, layout=(1,2), size=(1000,375), left_margin=8mm, bottom_margin=5mm)\n",
    "savefig(\"weather.pdf\")"
   ]
  },
  {
   "cell_type": "code",
   "execution_count": 471,
   "metadata": {},
   "outputs": [
    {
     "data": {
      "text/plain": [
       "(13.705796191671903, 13.664596273291925)"
      ]
     },
     "execution_count": 471,
     "metadata": {},
     "output_type": "execute_result"
    }
   ],
   "source": [
    "using Query\n",
    "y14_15 = @from i in df begin\n",
    "    @where (i.year == 2014 && i.week >= 31) || (i.year == 2015 && i.week < 31)\n",
    "    @select {i.evapotranspiration}\n",
    "    @collect DataFrame\n",
    "end\n",
    "k14_15 = (15-2.9) * 1000 / sum(y14_15[:evapotranspiration])\n",
    "\n",
    "y13_14 = @from i in df begin\n",
    "    @where (i.year == 2013 && i.week >= 31) || (i.year == 2014 && i.week < 31)\n",
    "    @select {i.evapotranspiration}\n",
    "    @collect DataFrame\n",
    "end\n",
    "k13_14 = (15.9 - 2.8) * 1000 / sum(y13_14[:evapotranspiration])\n",
    "k13_14, k14_15"
   ]
  },
  {
   "cell_type": "code",
   "execution_count": 457,
   "metadata": {},
   "outputs": [],
   "source": [
    "hgh = 2\n",
    "plot(xlabel=\"Quantity (kg/Cow/Day)\", ylabel=\"Price Multiplier\",legend=false,ylims=(0,2hgh))\n",
    "xbx = [0.0, 2.0, 2.0, 0.0]\n",
    "ybx = [0, 0, 2hgh, 2hgh]\n",
    "plot!(Plots.Shape(xbx, ybx), fillalpha=0.5, w=0, c=\"green\", alpha=0)\n",
    "plot!(Plots.Shape(2+xbx, ybx), fillalpha=0.5, w=0, c=\"orange\", alpha=0)\n",
    "plot!(Plots.Shape(4+xbx, ybx), fillalpha=0.5, w=0, c=\"red\", alpha=0)\n",
    "# plot!(Plots.Shape(6+xbx, ybx), fillalpha=0.6, w=0, c=\"red\", alpha=0)\n",
    "plot!([0, 2, 4, 6], 1+[0, 0, 1, 3], w=5, c=\"#00467F\", size=(4 * 150,3 * 150), left_margin=5mm, bottom_margin=5mm)\n",
    "annotate!([(1,hgh,text(\"FEI Grade A\")), (3,hgh,text(\"FEI Grade B\")), (5,hgh,text(\"FEI Grade C\"))])\n",
    "savefig(\"fei_penalty.pdf\")"
   ]
  }
 ],
 "metadata": {
  "kernelspec": {
   "display_name": "Julia 0.6.0",
   "language": "julia",
   "name": "julia-0.6"
  },
  "language_info": {
   "file_extension": ".jl",
   "mimetype": "application/julia",
   "name": "julia",
   "version": "0.6.0"
  }
 },
 "nbformat": 4,
 "nbformat_minor": 2
}
