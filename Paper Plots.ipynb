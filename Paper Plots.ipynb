{
 "cells": [
  {
   "cell_type": "code",
   "execution_count": 4,
   "metadata": {},
   "outputs": [
    {
     "data": {
      "text/plain": [
       "\"experiments/Paper Run/Powder.results\""
      ]
     },
     "execution_count": 4,
     "metadata": {},
     "output_type": "execute_result"
    },
    {
     "name": "stderr",
     "output_type": "stream",
     "text": [
      "WARNING: redefining constant PARAMETER_FILE\n",
      "WARNING: redefining constant RESULTS_FILE\n"
     ]
    }
   ],
   "source": [
    "# set this to point to the parameter file used\n",
    "const PARAMETER_FILE = \"model.parameters.json\"\n",
    "# set this to point to the .results file containing the simulations\n",
    "const RESULTS_FILE   = \"experiments/Paper Run/Powder.results\""
   ]
  },
  {
   "cell_type": "code",
   "execution_count": 5,
   "metadata": {},
   "outputs": [],
   "source": [
    "using JSON, SDDP,DataFrames, StatPlots\n",
    "data = JSON.parsefile(PARAMETER_FILE)\n",
    "results = SDDP.load(RESULTS_FILE);"
   ]
  },
  {
   "cell_type": "code",
   "execution_count": 6,
   "metadata": {},
   "outputs": [
    {
     "name": "stderr",
     "output_type": "stream",
     "text": [
      "\u001b[1m\u001b[33mWARNING: \u001b[39m\u001b[22m\u001b[33mUnused font arg: 3.5277777777777777mm (Measures.Length{:mm,Float64})\u001b[39m\n",
      "\u001b[1m\u001b[33mWARNING: \u001b[39m\u001b[22m\u001b[33mUnused font arg: 4.2333333333333325mm (Measures.Length{:mm,Float64})\u001b[39m\n"
     ]
    },
    {
     "data": {
      "text/plain": [
       "Plots.GRBackend()"
      ]
     },
     "execution_count": 6,
     "metadata": {},
     "output_type": "execute_result"
    }
   ],
   "source": [
    "using Plots\n",
    "fntsm = Plots.font(\"times\", 10.0pt)\n",
    "fntlg = Plots.font(\"times\", 12.0pt)\n",
    "default(titlefont=fntlg, guidefont=fntlg, tickfont=fntsm, legendfont=fntsm,left_margin=10mm,bottom_margin=7.5mm)\n",
    "default(size=(800,600),top_margin=0mm, right_margin=0mm)\n",
    "gr()"
   ]
  },
  {
   "cell_type": "code",
   "execution_count": 7,
   "metadata": {
    "collapsed": true
   },
   "outputs": [],
   "source": [
    "# Plot Figure 1 in the paper\n",
    "plot(size=(750,500), left_margin=5mm, bottom_margin=5mm)\n",
    "milking_requirements = data[\"energy_for_pregnancy\"] + data[\"energy_for_bcs_milking\"] + data[\"energy_for_maintenance\"]\n",
    "dry_requirements = data[\"energy_for_pregnancy\"] + data[\"energy_for_bcs_dry\"] + data[\"energy_for_maintenance\"]\n",
    "\n",
    "plot!(milking_requirements, label=\"Total: Milking\",          linewidth=3, color=\"#00467F\")\n",
    "plot!(dry_requirements, label=\"Total: Dry\",                  linewidth=3, color=\"#00467F\", linestyle=:dot)\n",
    "plot!(data[\"energy_for_bcs_milking\"],label=\"BCS - Milking\",  linewidth=3, color=\"#e65100\")\n",
    "plot!(data[\"energy_for_bcs_dry\"],label=\"BCS - Dry\",          linewidth=3, color=\"#e65100\", linestyle=:dot)\n",
    "hline!([data[\"energy_for_maintenance\"]],label=\"Maintenance\", linewidth=3, color=\"#009AC7\", linestyle=:solid)\n",
    "plot!(data[\"energy_for_pregnancy\"], label=\"Pregnancy\",       linewidth=3, color=\"#009AC7\", linestyle=:dot)\n",
    "\n",
    "plot!(ylims=(-100,900), xlabel=\"Weeks since calving\", ylabel=\"Energy Requirement (MJ/Week)\", legend=:topleft)\n",
    "savefig(\"energy.pdf\")"
   ]
  },
  {
   "cell_type": "code",
   "execution_count": 20,
   "metadata": {
    "collapsed": true
   },
   "outputs": [],
   "source": [
    "# Plot Figure 4\n",
    "hgh = 3\n",
    "plot(xlabel=\"Quantity (kg/Cow/Day)\", ylabel=\"Price Multiplier\",legend=false,ylims=(0,2hgh))\n",
    "xbx = [0.0, 2.0, 2.0, 0.0]\n",
    "ybx = [0, 0, 2hgh, 2hgh]\n",
    "plot!(Plots.Shape(xbx, ybx), fillalpha=0.5, w=0, c=\"green\", alpha=0)\n",
    "plot!(Plots.Shape(2+xbx, ybx), fillalpha=0.5, w=0, c=\"orange\", alpha=0)\n",
    "plot!(Plots.Shape(4+xbx, ybx), fillalpha=0.5, w=0, c=\"red\", alpha=0)\n",
    "# plot!(Plots.Shape(6+xbx, ybx), fillalpha=0.66, w=0, c=\"red\", alpha=0)\n",
    "plot!([0, 3, 4, 6], 1+[0, 0, 1, 5], w=5, c=\"#00467F\")\n",
    "plot!(size=(4 * 175,3 * 175), left_margin=5mm, bottom_margin=5mm)\n",
    "annotate!([(1,3,text(\"FEI Grade A\")), (3,3,text(\"FEI Grade B\")), (5,3,text(\"FEI Grade C\"))])\n",
    "savefig(\"fei_penalty.pdf\")"
   ]
  },
  {
   "cell_type": "code",
   "execution_count": 19,
   "metadata": {
    "collapsed": true
   },
   "outputs": [],
   "source": [
    "# Plot Figure 5\n",
    "df = readtable(\"data/TGA.daily.df.csv\")\n",
    "q = [0.0, 0.1, 0.25, 0.5, 0.75, 0.9, 1.0]\n",
    "rainfall = unstack(by(df, :week) do io\n",
    "   DataFrame(\n",
    "        rainfall = quantile(io[:rainfall], q),\n",
    "        quantile = q\n",
    "        ) \n",
    "        end, :quantile, :rainfall)\n",
    "\n",
    "evapotranspiration = unstack(by(df, :week) do io\n",
    "   DataFrame(\n",
    "        evapotranspiration = quantile(io[:evapotranspiration], q),\n",
    "        quantile = q\n",
    "        ) \n",
    "        end, :quantile, :evapotranspiration)\n",
    "\n",
    "plot(rainfall, Symbol(0.5), w=3, c=\"#00467F\")\n",
    "plot!(rainfall, Symbol(0.0), fill=(Symbol(1.0), \"#00467F\"), fillalpha=0.25, alpha=0)\n",
    "plot!(rainfall, Symbol(0.1), fill=(Symbol(0.9), \"#00467F\"), fillalpha=0.25, alpha=0)\n",
    "plot!(rainfall, Symbol(0.25), fill=(Symbol(0.75), \"#00467F\"), fillalpha=0.25, alpha=0)\n",
    "rainfall_plot = plot!(legend=false, title=\"(a)\", xlabel=\"Week of Year\", ylabel=\"Rainfall\\n(mm/Week)\")\n",
    "\n",
    "plot(evapotranspiration, Symbol(0.5), w=3, c=\"#00467F\")\n",
    "plot!(evapotranspiration, Symbol(0.0), fill=(Symbol(1.0), \"#00467F\"), fillalpha=0.25, alpha=0)\n",
    "plot!(evapotranspiration, Symbol(0.1), fill=(Symbol(0.9), \"#00467F\"), fillalpha=0.25, alpha=0)\n",
    "plot!(evapotranspiration, Symbol(0.25), fill=(Symbol(0.75), \"#00467F\"), fillalpha=0.25, alpha=0)\n",
    "evapotranspiration_plot = plot!(legend=false, title=\"(b)\", xlabel=\"Week of Year\", ylabel=\"Evapotranspiration\\n(mm/Week)\")\n",
    "\n",
    "plot(rainfall_plot, evapotranspiration_plot, layout=(1,2), size=(1000,375), left_margin=8mm, bottom_margin=5mm)\n",
    "savefig(\"weather.pdf\")"
   ]
  },
  {
   "cell_type": "code",
   "execution_count": 18,
   "metadata": {},
   "outputs": [],
   "source": [
    "# Plot Figure 6\n",
    "\n",
    "function getresults(results, key, idx, scalefactor=1.0)\n",
    "    Q = [0.1, 0.25, 0.5, 0.75, 0.9]\n",
    "    g2 = hcat([scalefactor*results[i][key] for i in 1:length(results) if results[i][:markov][40] == idx]...)\n",
    "    g3 = hcat([quantile(g2[g,:], Q) for g in 1:size(g2, 1)]...)'\n",
    "    DataFrame(x10=g3[:,1], x25=g3[:,2], x50=g3[:,3], x75=g3[:,4], x90=g3[:,5])\n",
    "end\n",
    "\n",
    "function plotpowder(results, key, ylims, ylabel,title,scalefactor=1.0)\n",
    "    maxidx = indmax([results[i][:markov][52] for i in 1:length(results)])\n",
    "    minidx = indmin([results[i][:markov][52] for i in 1:length(results)])\n",
    "    blue = getresults(results, key, 1, scalefactor)\n",
    "    grey = getresults(results, key, 2, scalefactor)\n",
    "    orange = getresults(results, key, 3, scalefactor)\n",
    "\n",
    "    plot()\n",
    "\n",
    "    plot!(blue, :x10, fill=(:x90, \"#00467F\"), c=\"#00467F\", fillalpha=0.25, alpha=1.0)\n",
    "    plot!(grey, :x10, fill=(:x90, \"grey\"), c=\"grey\", fillalpha=0.25, alpha=1)\n",
    "    plot!(orange, :x10, fill=(:x90, \"#e65100\"), c=\"#e65100\", fillalpha=0.25, alpha=1)\n",
    "    plot!(blue, :x90, c=\"#00467F\")\n",
    "    plot!(grey, :x90, c=\"grey\")\n",
    "    plot!(orange, :x90, c=\"#e65100\")\n",
    "\n",
    "    plot!(blue, :x50, c=\"#00467F\")\n",
    "    plot!(grey, :x50, c=\"grey\")\n",
    "    plot!(orange, :x50, c=\"#e65100\")\n",
    "                    \n",
    "    plot!(scalefactor*results[maxidx][key], color=\"#e65100\", linewidth=3)\n",
    "    plot!(scalefactor*results[minidx][key], color=\"#00467F\", linewidth=3)\n",
    "    xticks = collect(1:8.66:52)\n",
    "    xticklabels = [\"Aug\", \"Oct\", \"Dec\", \"Feb\", \"Apr\", \"Jun\"]\n",
    "    plot!(legend=false, ylims=ylims, ylabel=ylabel,title=title, xticks=(xticks, xticklabels), xlabel=\"\")\n",
    "end\n",
    "       \n",
    "# function plotpowder(results, key, ylims, ylabel,title,scalefactor=1.0)\n",
    "#     maxidx = indmax([results[i][:markov][52] for i in 1:length(results)])\n",
    "#     minidx = indmin([results[i][:markov][52] for i in 1:length(results)])\n",
    "#     plot(\n",
    "#         hcat([scalefactor*results[i][key] for i in 1:length(results) if results[i][:markov][40] == 2 && mod(i, 2) == 0]...),\n",
    "#         color=\"gray\", alpha=0.12, linewidth=1\n",
    "#     )\n",
    "#     plot!(\n",
    "#         hcat([scalefactor*results[i][key] for i in 1:length(results) if results[i][:markov][40] == 1 && mod(i, 2) == 0]...),\n",
    "#         color=\"#00467F\", alpha=0.12, linewidth=1\n",
    "#     )\n",
    "    \n",
    "#     plot!(\n",
    "#         hcat([scalefactor*results[i][key] for i in 1:length(results) if results[i][:markov][40] == 3 && mod(i, 2) == 0]...),\n",
    "#         color=\"#e65100\", alpha=0.12, linewidth=1\n",
    "#     )\n",
    "\n",
    "#     plot!(scalefactor*results[maxidx][key], color=\"#e65100\", linewidth=3)\n",
    "#     plot!(scalefactor*results[minidx][key], color=\"#00467F\", linewidth=3)\n",
    "#     xticks = collect(1:8.66:52)\n",
    "#     xticklabels = [\"Aug\", \"Oct\", \"Dec\", \"Feb\", \"Apr\", \"Jun\"]\n",
    "#     plot!(legend=false, ylims=ylims, ylabel=ylabel,title=title, xticks=(xticks, xticklabels))\n",
    "# end\n",
    "\n",
    "function plotprice(results, title)\n",
    "    maxidx = indmax([results[i][:markov][52] for i in 1:length(results)])\n",
    "    minidx = indmin([results[i][:markov][52] for i in 1:length(results)])\n",
    "    prices = Vector{Float64}[]\n",
    "    for t in 1:24\n",
    "        push!(prices, [6.0])\n",
    "    end\n",
    "    for t in 25:51\n",
    "        push!(prices, [5.0, 6.0, 7.0])\n",
    "    end\n",
    "    push!(prices, [4.0, 5.0, 6.0, 7.0, 8.0])\n",
    "\n",
    "    function toprices(markov)\n",
    "       [prices[t][i] for (t,i) in enumerate(markov)] \n",
    "    end\n",
    "    plot(\n",
    "        hcat([toprices(results[i][:markov]) for i in 1:length(results) if results[i][:markov][40] == 2 && mod(i, 2) == 0]...),\n",
    "        color=\"gray\", linewidth=1, alpha=0.03\n",
    "    )\n",
    "    plot!(\n",
    "        hcat([toprices(results[i][:markov]) for i in 1:length(results) if results[i][:markov][40] == 1 && mod(i, 2) == 0]...),\n",
    "        color=\"#00467F\", linewidth=1, alpha=0.03\n",
    "    )\n",
    "\n",
    "    plot!(\n",
    "        hcat([toprices(results[i][:markov]) for i in 1:length(results) if results[i][:markov][40] == 3 && mod(i, 2) == 0]...),\n",
    "        color=\"#e65100\", linewidth=1, alpha=0.03\n",
    "    )\n",
    "    plot!(toprices(results[maxidx][:markov]), color=\"#e65100\", linewidth=3)\n",
    "    plot!(toprices(results[minidx][:markov]), color=\"#00467F\", linewidth=3)\n",
    "    xticks = collect(1:8.66:52)\n",
    "    xticklabels = [\"Aug\", \"Oct\", \"Dec\", \"Feb\", \"Apr\", \"Jun\"]\n",
    "    plot!(legend=false, ylabel=\"Forecast Price\\n(\\$/kg)\",title=title, xticks=(xticks, xticklabels))\n",
    "end\n",
    "\n",
    "function objectiveplot(results, title)\n",
    "    x1 = [r[:objective] - 3536.0 for r in results if r[:markov][40]==1]\n",
    "    x2 = [r[:objective] - 3536.0 for r in results if r[:markov][40]==2]\n",
    "    x3 = [r[:objective] - 3536.0 for r in results if r[:markov][40]==3]\n",
    "    bins = -1500:200:6500\n",
    "    y = zeros(size(bins, 1), 3)\n",
    "    for (row, l, u) in zip(1:size(bins, 1), bins[1:end-1], bins[2:end])\n",
    "        y[row, 1] = sum(l .<= x1 .<= u)\n",
    "        y[row, 2] = sum(l .<= x2 .<= u)\n",
    "        y[row, 3] = sum(l .<= x3 .<= u)\n",
    "    end\n",
    "    groupedbar(y, bar_position = :stack, bar_width=1, c=[\"#00467F\" \"gray\" \"#e65100\"], fillalpha=0.75)\n",
    "\n",
    "                                                                                                    \n",
    "    maxidx = indmax([results[i][:markov][52] for i in 1:length(results)])\n",
    "    minidx = indmin([results[i][:markov][52] for i in 1:length(results)])\n",
    "    vline!([indmin(abs.(bins - (results[maxidx][:objective] - 3536.0)))], color=\"#e65100\", linewidth=3)\n",
    "    vline!([indmin(abs.(bins - (results[minidx][:objective] - 3536.0)))], color=\"#00467F\", linewidth=3)\n",
    "    plot!(xticks=(3:10:size(y, 1), 0.5 * (bins[1:end-1] + bins[2:end])[3:10:end]))\n",
    "    plot!(ylabel=\"Number of Simulations\", xlabel=\"Operating Profit (\\$/Ha)\\n\", legend=false)\n",
    "    plot!(title=title)                                                                                            \n",
    "end\n",
    "\n",
    "plot(\n",
    "    objectiveplot(results, \"(a)\"),\n",
    "    plotprice(results, \"(b)\"),\n",
    "    plotpowder(results, :C, (0, 3), \"Cows Milking\\n(Cows/Ha)\", \"(c)\"),\n",
    "    plotpowder(results, :P, (1.5,3), \"Pasture Cover\\n(t/Ha)\",\"(d)\", 0.001),\n",
    "    plotpowder(results, :W, (0,150), \"Soil Moisture\\n(mm)\",\"(e)\"),\n",
    "#     plotpowder(results, :ev, (0,45), \"Evapotranspiration\\n(mm/Week)\", \"(e)\"),\n",
    "    plotpowder(results, :gr, (0,70), \"Pasture Growth\\n(kg/Day)\", \"(f)\"),\n",
    "    plotpowder(results, :fₛ, (0,150), \"Supplement Fed\\n(kg/Week)\", \"(g)\"),\n",
    "    plotpowder(results, :milk, (0,2.5), \"Milk Production\\n(kgMS/Cow/Day)\", \"(h)\", 1 / 3 / 7),\n",
    "    layout=(4,2), size=(1000,1200)\n",
    ")\n",
    "savefig(\"farm.pdf\")"
   ]
  }
 ],
 "metadata": {
  "kernelspec": {
   "display_name": "Julia 0.6.0",
   "language": "julia",
   "name": "julia-0.6"
  },
  "language_info": {
   "file_extension": ".jl",
   "mimetype": "application/julia",
   "name": "julia",
   "version": "0.6.0"
  }
 },
 "nbformat": 4,
 "nbformat_minor": 2
}
